{
 "cells": [
  {
   "cell_type": "markdown",
   "metadata": {},
   "source": [
    "## Optimising Under Goals Markets Early\n",
    "The aim of this analysis is to understand how to optimise the under goals market when trading in-play. Key questions are:\n",
    "1. When do the odds begin to drop on average?\n",
    "2. When is the slope the steepest?\n",
    "3. Is there are relationship between odds before the match and the early movement in-play. \n",
    "4. What is the optimal number of ticks to take to minimise risk? Is this possible to calculate/a sensible question?\n",
    "5. Can the probability of early goals be predicted with any accuracy?"
   ]
  },
  {
   "cell_type": "code",
   "execution_count": 3,
   "metadata": {},
   "outputs": [
    {
     "name": "stdout",
     "output_type": "stream",
     "text": [
      "     series_uid  game_time   ltp  series_item_uid  runner_uid in_play  \\\n",
      "0         21794        0.0  1.80              NaN         NaN     NaN   \n",
      "1         21794        1.0  1.80        6988219.0        40.0    True   \n",
      "2         21794        2.0  1.79        6988340.0        40.0    True   \n",
      "3         21794        3.0  1.78        6988267.0        40.0    True   \n",
      "4         21794        4.0  1.77        6988208.0        40.0    True   \n",
      "...         ...        ...   ...              ...         ...     ...   \n",
      "9066      52598       90.0  1.03        8866904.0        40.0    True   \n",
      "9067      52598       91.0  1.02        8866885.0        40.0    True   \n",
      "9068      52598       92.0  1.01        8866915.0        40.0    True   \n",
      "9069      52598       93.0  1.02        8866918.0        40.0    True   \n",
      "9070      52598       94.0  1.01        8866877.0        40.0    True   \n",
      "\n",
      "                update_datetime          creation_datetime  \n",
      "0                           NaT                        NaT  \n",
      "1    2020-08-30 13:00:25.027212 2020-08-30 13:00:25.029200  \n",
      "2    2020-08-30 13:00:25.027212 2020-08-30 13:00:25.029200  \n",
      "3    2020-08-30 13:00:25.027212 2020-08-30 13:00:25.029200  \n",
      "4    2020-08-30 13:00:25.027212 2020-08-30 13:00:25.029200  \n",
      "...                         ...                        ...  \n",
      "9066 2020-08-30 20:07:45.505260 2020-08-30 20:07:45.506261  \n",
      "9067 2020-08-30 20:07:45.505260 2020-08-30 20:07:45.506261  \n",
      "9068 2020-08-30 20:07:45.505260 2020-08-30 20:07:45.506261  \n",
      "9069 2020-08-30 20:07:45.505260 2020-08-30 20:07:45.506261  \n",
      "9070 2020-08-30 20:07:45.505260 2020-08-30 20:07:45.506261  \n",
      "\n",
      "[9071 rows x 8 columns]\n"
     ]
    }
   ],
   "source": [
    "# Get and clean data\n",
    "import os\n",
    "os.chdir('C:\\\\Users\\\\rober\\\\PycharmProjects\\\\crusher\\\\src')\n",
    "\n",
    "from utils.db.database_manager import dbm\n",
    "from orm.orm import ExchangeOddsSeriesItem, Market, Event, Team, Runner, ExchangeOddsSeries\n",
    "from crusher.runner import RunnerCodeEnum as RCEnum\n",
    "from crusher.item_freq_type import ItemFreqTypeCodeEnum as IFTCEnum\n",
    "from crusher.division import DivisionCodeEnum\n",
    "from utils.helper_functions import preprocessing as pr\n",
    "import pandas as pd\n",
    "from scipy import stats\n",
    "from matplotlib import pyplot as plt\n",
    "from dateutil.relativedelta import relativedelta\n",
    "\n",
    "with dbm.get_managed_session() as session:\n",
    "    # Get data\n",
    "    runner = Runner.get_by_code(session, RCEnum.UNDER_2_5_GOALS)\n",
    "    df = ExchangeOddsSeriesItem.get_series_items_df(session,\n",
    "                                                    division_code=[DivisionCodeEnum.PREMIER_LEAGUE,\n",
    "                                                                   DivisionCodeEnum.CHAMPIONSHIP,\n",
    "                                                                   ],\n",
    "                                                    runner_uid=runner.runner_uid,\n",
    "                                                    in_play=True,\n",
    "                                                    item_freq_type_code=IFTCEnum.MINUTE\n",
    "                                                    )\n",
    "\n",
    "df = df.sort_values(['series_uid', 'published_datetime'], ascending=True)\n",
    "\n",
    "df = pr.drop_series_with_price_jumps(df, 0.2)\n",
    "df = pr.convert_published_datetime_to_game_time(df)\n",
    "df = pr.drop_series_by_n_data_points(df, 30)\n",
    "\n",
    "\n",
    "print(df)\n",
    "\n"
   ]
  },
  {
   "cell_type": "markdown",
   "metadata": {},
   "source": [
    "#### TODO:\n",
    "- Preprocessing as helper functions\n",
    "- Figure out best way to analyse steepness\n",
    "- Look into plotly and dash for real time calculations\n"
   ]
  }
 ],
 "metadata": {
  "kernelspec": {
   "display_name": "Python 3",
   "language": "python",
   "name": "python3"
  },
  "language_info": {
   "codemirror_mode": {
    "name": "ipython",
    "version": 3
   },
   "file_extension": ".py",
   "mimetype": "text/x-python",
   "name": "python",
   "nbconvert_exporter": "python",
   "pygments_lexer": "ipython3",
   "version": "3.8.5"
  }
 },
 "nbformat": 4,
 "nbformat_minor": 4
}
